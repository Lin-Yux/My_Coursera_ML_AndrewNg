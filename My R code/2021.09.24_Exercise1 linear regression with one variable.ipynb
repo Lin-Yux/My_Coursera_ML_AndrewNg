{
 "cells": [
  {
   "cell_type": "code",
   "execution_count": 1,
   "id": "66e934e4",
   "metadata": {},
   "outputs": [],
   "source": [
    "## 2021.09.24 Exercise 1\n",
    "## Linear regression with one variable\n",
    "\n",
    "## 0 说明\n",
    "# 应用单因素线性回归来预测food truck的利润\n",
    "# file ex1data1.txt contains the dataset for our linear regression problem\n",
    "\n",
    "# The first column is the population of a city and the second column is \n",
    "# the profit of a food truck in that city. A negative value for profit indicates a loss"
   ]
  },
  {
   "cell_type": "code",
   "execution_count": 2,
   "id": "1736f430",
   "metadata": {},
   "outputs": [
    {
     "data": {
      "text/html": [
       "'G:/project/Coursera-ML-AndrewNg-Notes/My_MLcourse_codes'"
      ],
      "text/latex": [
       "'G:/project/Coursera-ML-AndrewNg-Notes/My\\_MLcourse\\_codes'"
      ],
      "text/markdown": [
       "'G:/project/Coursera-ML-AndrewNg-Notes/My_MLcourse_codes'"
      ],
      "text/plain": [
       "[1] \"G:/project/Coursera-ML-AndrewNg-Notes/My_MLcourse_codes\""
      ]
     },
     "metadata": {},
     "output_type": "display_data"
    }
   ],
   "source": [
    "getwd()\n",
    "\n",
    "## R中矩阵内积(inner product/点乘) a*b \n",
    "## R中矩阵外积（叉乘）a%*%b"
   ]
  },
  {
   "cell_type": "code",
   "execution_count": 3,
   "id": "54b17f21",
   "metadata": {},
   "outputs": [
    {
     "name": "stdout",
     "output_type": "stream",
     "text": [
      "[1] \"row number=96 column number=2\"\n"
     ]
    },
    {
     "data": {
      "text/html": [
       "<table class=\"dataframe\">\n",
       "<caption>A data.frame: 5 × 2</caption>\n",
       "<thead>\n",
       "\t<tr><th></th><th scope=col>X6.1101</th><th scope=col>X17.592</th></tr>\n",
       "\t<tr><th></th><th scope=col>&lt;dbl&gt;</th><th scope=col>&lt;dbl&gt;</th></tr>\n",
       "</thead>\n",
       "<tbody>\n",
       "\t<tr><th scope=row>1</th><td>5.5277</td><td> 9.1302</td></tr>\n",
       "\t<tr><th scope=row>2</th><td>8.5186</td><td>13.6620</td></tr>\n",
       "\t<tr><th scope=row>3</th><td>7.0032</td><td>11.8540</td></tr>\n",
       "\t<tr><th scope=row>4</th><td>5.8598</td><td> 6.8233</td></tr>\n",
       "\t<tr><th scope=row>5</th><td>8.3829</td><td>11.8860</td></tr>\n",
       "</tbody>\n",
       "</table>\n"
      ],
      "text/latex": [
       "A data.frame: 5 × 2\n",
       "\\begin{tabular}{r|ll}\n",
       "  & X6.1101 & X17.592\\\\\n",
       "  & <dbl> & <dbl>\\\\\n",
       "\\hline\n",
       "\t1 & 5.5277 &  9.1302\\\\\n",
       "\t2 & 8.5186 & 13.6620\\\\\n",
       "\t3 & 7.0032 & 11.8540\\\\\n",
       "\t4 & 5.8598 &  6.8233\\\\\n",
       "\t5 & 8.3829 & 11.8860\\\\\n",
       "\\end{tabular}\n"
      ],
      "text/markdown": [
       "\n",
       "A data.frame: 5 × 2\n",
       "\n",
       "| <!--/--> | X6.1101 &lt;dbl&gt; | X17.592 &lt;dbl&gt; |\n",
       "|---|---|---|\n",
       "| 1 | 5.5277 |  9.1302 |\n",
       "| 2 | 8.5186 | 13.6620 |\n",
       "| 3 | 7.0032 | 11.8540 |\n",
       "| 4 | 5.8598 |  6.8233 |\n",
       "| 5 | 8.3829 | 11.8860 |\n",
       "\n"
      ],
      "text/plain": [
       "  X6.1101 X17.592\n",
       "1 5.5277   9.1302\n",
       "2 8.5186  13.6620\n",
       "3 7.0032  11.8540\n",
       "4 5.8598   6.8233\n",
       "5 8.3829  11.8860"
      ]
     },
     "metadata": {},
     "output_type": "display_data"
    },
    {
     "data": {
      "text/html": [
       "<style>\n",
       ".list-inline {list-style: none; margin:0; padding: 0}\n",
       ".list-inline>li {display: inline-block}\n",
       ".list-inline>li:not(:last-child)::after {content: \"\\00b7\"; padding: 0 .5ex}\n",
       "</style>\n",
       "<ol class=list-inline><li>'X6.1101'</li><li>'X17.592'</li></ol>\n"
      ],
      "text/latex": [
       "\\begin{enumerate*}\n",
       "\\item 'X6.1101'\n",
       "\\item 'X17.592'\n",
       "\\end{enumerate*}\n"
      ],
      "text/markdown": [
       "1. 'X6.1101'\n",
       "2. 'X17.592'\n",
       "\n",
       "\n"
      ],
      "text/plain": [
       "[1] \"X6.1101\" \"X17.592\""
      ]
     },
     "metadata": {},
     "output_type": "display_data"
    },
    {
     "name": "stdout",
     "output_type": "stream",
     "text": [
      "96 96"
     ]
    },
    {
     "data": {
      "image/png": "[encoded data removed]",
      "text/plain": [
       "plot without title"
      ]
     },
     "metadata": {
      "image/png": {
       "height": 420,
       "width": 420
      }
     },
     "output_type": "display_data"
    }
   ],
   "source": [
    "## 1 load data ex1data1.txt\n",
    "ex1data1=read.table(file = 'G:\\\\project\\\\Coursera-ML-AndrewNg-Notes\\\\code\\\\ex1-linear regression\\\\ex1data1.txt',header = T,sep = ',',stringsAsFactors = F)\n",
    "\n",
    "print(paste0(\"row number=\",nrow(ex1data1),\" column number=\",ncol(ex1data1))) ## \"row number=96 column number=2\"\n",
    "ex1data1[1:5,1:2]\n",
    "colnames(ex1data1)\n",
    "\n",
    "## 将data.frame拆成X和Y两个列向量\n",
    "X=as.vector(ex1data1[,1])\n",
    "Y=as.vector(ex1data1[,2])\n",
    "cat(length(X),length(Y))\n",
    "\n",
    "## 简单的用一个散点图画出他们的关系\n",
    "plot(x=X,y = Y,xlab = \"Population\",ylab=\"Profits\")"
   ]
  },
  {
   "cell_type": "code",
   "execution_count": 4,
   "id": "ca1d2fc5",
   "metadata": {
    "code_folding": []
   },
   "outputs": [
    {
     "data": {
      "text/html": [
       "<table class=\"dataframe\">\n",
       "<caption>A matrix: 6 × 2 of type dbl</caption>\n",
       "<thead>\n",
       "\t<tr><th scope=col>x0</th><th scope=col>x1</th></tr>\n",
       "</thead>\n",
       "<tbody>\n",
       "\t<tr><td>1</td><td>5.5277</td></tr>\n",
       "\t<tr><td>1</td><td>8.5186</td></tr>\n",
       "\t<tr><td>1</td><td>7.0032</td></tr>\n",
       "\t<tr><td>1</td><td>5.8598</td></tr>\n",
       "\t<tr><td>1</td><td>8.3829</td></tr>\n",
       "\t<tr><td>1</td><td>7.4764</td></tr>\n",
       "</tbody>\n",
       "</table>\n"
      ],
      "text/latex": [
       "A matrix: 6 × 2 of type dbl\n",
       "\\begin{tabular}{ll}\n",
       " x0 & x1\\\\\n",
       "\\hline\n",
       "\t 1 & 5.5277\\\\\n",
       "\t 1 & 8.5186\\\\\n",
       "\t 1 & 7.0032\\\\\n",
       "\t 1 & 5.8598\\\\\n",
       "\t 1 & 8.3829\\\\\n",
       "\t 1 & 7.4764\\\\\n",
       "\\end{tabular}\n"
      ],
      "text/markdown": [
       "\n",
       "A matrix: 6 × 2 of type dbl\n",
       "\n",
       "| x0 | x1 |\n",
       "|---|---|\n",
       "| 1 | 5.5277 |\n",
       "| 1 | 8.5186 |\n",
       "| 1 | 7.0032 |\n",
       "| 1 | 5.8598 |\n",
       "| 1 | 8.3829 |\n",
       "| 1 | 7.4764 |\n",
       "\n"
      ],
      "text/plain": [
       "     x0 x1    \n",
       "[1,] 1  5.5277\n",
       "[2,] 1  8.5186\n",
       "[3,] 1  7.0032\n",
       "[4,] 1  5.8598\n",
       "[5,] 1  8.3829\n",
       "[6,] 1  7.4764"
      ]
     },
     "metadata": {},
     "output_type": "display_data"
    }
   ],
   "source": [
    "## Gradient Descent 梯度下降\n",
    "\n",
    "## 向量化表示数据\n",
    "## 我们对于X矩阵，用行来表示一个个实例x^(i)，每一列是一个features，xj。\n",
    "## 设X有m个实例，n个features，X为m*(n+1)的矩阵（这里只有一个feature，所以X就是一个一维向量）（其中，第一个features都为1，表示bias terms）\n",
    "\n",
    "## 对于Y矩阵，就是y^(i)组成的列向量，Y是一个m*1的向量\n",
    "\n",
    "## 对于参数Theta，对于每一个features都有一个对应的权重（weight）或者称为参数（Parameter）,因此Theta是一个(n+1)*1的向量（其中第一个为θ0，表示截距）\n",
    "\n",
    "## function for adding bias term\n",
    "adding_bias_term=function(X){\n",
    "    X_mat=matrix(NA,nrow = length(X),ncol = 2)\n",
    "    X_mat=as.data.frame(X_mat)\n",
    "    X_mat$x0=rep(1,nrow(X_mat))\n",
    "    X_mat$x1=X\n",
    "    X_mat=X_mat[,-c(1,2)]\n",
    "    return(as.matrix(X_mat))\n",
    "}\n",
    "\n",
    "X_mat=adding_bias_term(X)\n",
    "head(X_mat)"
   ]
  },
  {
   "cell_type": "code",
   "execution_count": 5,
   "id": "dc6a8d3f",
   "metadata": {
    "code_folding": []
   },
   "outputs": [],
   "source": [
    "## rand initiate Theta\n",
    "\n",
    "rand_init_theta=function(Theta){\n",
    "    Theta=c()\n",
    "\n",
    "    for(i in 1:ncol(X_mat)){\n",
    "    Theta=c(Theta,runif(1,0,1))\n",
    "    }\n",
    "    Theta=as.matrix(Theta)\n",
    "    return (as.matrix(Theta))\n",
    "}\n",
    "Theta=rand_init_theta(Theta)\n"
   ]
  },
  {
   "cell_type": "code",
   "execution_count": 6,
   "id": "2a3303ea",
   "metadata": {
    "code_folding": []
   },
   "outputs": [],
   "source": [
    "## function of hypothesis h_theta_x\n",
    "\n",
    "h_theta_x=function(X_mat,Theta){\n",
    "    return (X_mat%*%Theta)\n",
    "}"
   ]
  },
  {
   "cell_type": "code",
   "execution_count": 7,
   "id": "f2142996",
   "metadata": {
    "code_folding": []
   },
   "outputs": [],
   "source": [
    "## function of calculate loss function(J(θ))\n",
    "cal_Loss_function=function(X_mat,Y,Theta){\n",
    "    m=nrow(X_mat)\n",
    "    \n",
    "    return (sum((h_theta_x(X_mat,Theta)-Y)^2)/(2*m))\n",
    "}\n",
    "\n",
    "test_loss_term=cal_Loss_function(X_mat,Y,Theta)"
   ]
  },
  {
   "cell_type": "code",
   "execution_count": 8,
   "id": "012bd635",
   "metadata": {
    "code_folding": []
   },
   "outputs": [],
   "source": [
    "## gradient descent\n",
    "gradient_descent=function(X_mat,Y,Theta,alapa){\n",
    "    Theta_new=as.matrix(rep(NA,nrow(Theta)))\n",
    "    m=nrow(X_mat)\n",
    "\n",
    "    Theta_new=Theta-alapa/m*t(X_mat)%*%(h_theta_x(X_mat,Theta)-Y)\n",
    "    \n",
    "    return (Theta_new)\n",
    "}"
   ]
  },
  {
   "cell_type": "code",
   "execution_count": 9,
   "id": "ea3db74f",
   "metadata": {
    "code_folding": []
   },
   "outputs": [],
   "source": [
    "## visulize J(θ) and epoch\n",
    "epoch=c()\n",
    "Loss_term=c()\n",
    "for(i in 1:50){\n",
    "    epoch=c(epoch,i)\n",
    "    Loss_term_tem=cal_Loss_function(X_mat,Y,Theta)\n",
    "    Loss_term=c(Loss_term,Loss_term_tem)\n",
    "    Theta=gradient_descent(X_mat,Y,Theta,0.001)\n",
    "}"
   ]
  },
  {
   "cell_type": "code",
   "execution_count": 10,
   "id": "cc70ff32",
   "metadata": {},
   "outputs": [
    {
     "data": {
      "image/png": "[encoded data removed]",
      "text/plain": [
       "plot without title"
      ]
     },
     "metadata": {
      "image/png": {
       "height": 420,
       "width": 420
      }
     },
     "output_type": "display_data"
    }
   ],
   "source": [
    "## plot\n",
    "plot_mat=data.frame(\"epoch\"=epoch,\"Loss_term\"=Loss_term)\n",
    "\n",
    "plot(x=plot_mat$epoch,y = plot_mat$Loss_term,xlab = \"epoch\",ylab=\"Loss\")"
   ]
  },
  {
   "cell_type": "code",
   "execution_count": null,
   "id": "4daf4229",
   "metadata": {},
   "outputs": [],
   "source": []
  }
 ],
 "metadata": {
  "kernelspec": {
   "display_name": "R",
   "language": "R",
   "name": "ir"
  },
  "language_info": {
   "codemirror_mode": "r",
   "file_extension": ".r",
   "mimetype": "text/x-r-source",
   "name": "R",
   "pygments_lexer": "r",
   "version": "4.1.0"
  },
  "toc": {
   "base_numbering": 1,
   "nav_menu": {},
   "number_sections": true,
   "sideBar": true,
   "skip_h1_title": false,
   "title_cell": "Table of Contents",
   "title_sidebar": "Contents",
   "toc_cell": false,
   "toc_position": {},
   "toc_section_display": true,
   "toc_window_display": false
  },
  "varInspector": {
   "cols": {
    "lenName": 16,
    "lenType": 16,
    "lenVar": 40
   },
   "kernels_config": {
    "python": {
     "delete_cmd_postfix": "",
     "delete_cmd_prefix": "del ",
     "library": "var_list.py",
     "varRefreshCmd": "print(var_dic_list())"
    },
    "r": {
     "delete_cmd_postfix": ") ",
     "delete_cmd_prefix": "rm(",
     "library": "var_list.r",
     "varRefreshCmd": "cat(var_dic_list()) "
    }
   },
   "position": {
    "height": "212.4px",
    "left": "1034.2px",
    "right": "20px",
    "top": "115px",
    "width": "469px"
   },
   "types_to_exclude": [
    "module",
    "function",
    "builtin_function_or_method",
    "instance",
    "_Feature"
   ],
   "window_display": true
  }
 },
 "nbformat": 4,
 "nbformat_minor": 5
}
