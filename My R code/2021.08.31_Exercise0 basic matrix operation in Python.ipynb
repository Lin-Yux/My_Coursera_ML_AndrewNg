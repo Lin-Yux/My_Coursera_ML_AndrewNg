{
 "cells": [
  {
   "cell_type": "code",
   "execution_count": 6,
   "id": "bfea010c",
   "metadata": {},
   "outputs": [],
   "source": [
    "## 2021.08.31 Exercise 0\n",
    "## basic matrix operation in Python\n",
    "import numpy as np\n",
    "import pandas as pd\n",
    "import math\n",
    "import matplotlib.pyplot as plt\n",
    "import os "
   ]
  },
  {
   "cell_type": "code",
   "execution_count": 8,
   "id": "aba824dd",
   "metadata": {},
   "outputs": [
    {
     "name": "stdout",
     "output_type": "stream",
     "text": [
      "3\n",
      "2\n",
      "6\n",
      "2.0\n",
      "2\n",
      "16\n",
      "2.0\n"
     ]
    }
   ],
   "source": [
    "## 加减乘除乘方\n",
    "print(1+2)\n",
    "print(3-1)\n",
    "print(3*2)\n",
    "print(4/2) ## 非整除\n",
    "print(4//2) ## 整除\n",
    "print(pow(4,2)) ## 乘方\n",
    "print(math.sqrt(4))\n",
    "print(exp(4)) ## 求e^4"
   ]
  },
  {
   "cell_type": "code",
   "execution_count": 9,
   "id": "38cd72e1",
   "metadata": {},
   "outputs": [
    {
     "name": "stdout",
     "output_type": "stream",
     "text": [
      "False\n",
      "True\n",
      "0\n",
      "1\n"
     ]
    }
   ],
   "source": [
    "## 逻辑运算\n",
    "print(1==2)\n",
    "print(1!=2)\n",
    "print(1 and 0) ## 与\n",
    "print(1 or 0) ## 或"
   ]
  },
  {
   "cell_type": "code",
   "execution_count": 12,
   "id": "5f7c05a2",
   "metadata": {},
   "outputs": [
    {
     "name": "stdout",
     "output_type": "stream",
     "text": [
      "False\n"
     ]
    }
   ],
   "source": [
    "## 赋值\n",
    "a=3 ## int size=28\n",
    "print(3>4)\n",
    "b='hello world'\n",
    "\n",
    "c=math.pi ## 利用math库，获得π"
   ]
  },
  {
   "cell_type": "code",
   "execution_count": 14,
   "id": "e2c64ba2",
   "metadata": {},
   "outputs": [
    {
     "name": "stdout",
     "output_type": "stream",
     "text": [
      "π=3.141592653589793\n",
      "pai=3.141593\n"
     ]
    }
   ],
   "source": [
    "## 输出\n",
    "print(f\"π={c}\") ## 可以用f\"...{变量}...\"来打印出变量\n",
    "print(\"pai=%f\"%c) ## 类似c语言,print(\"...%d...\",变量)"
   ]
  },
  {
   "cell_type": "code",
   "execution_count": 21,
   "id": "cae1defd",
   "metadata": {},
   "outputs": [
    {
     "name": "stdout",
     "output_type": "stream",
     "text": [
      "[1 2 3 4]\n",
      "[[1 2]\n",
      " [3 4]]\n",
      "<class 'numpy.ndarray'>\n",
      "<class 'numpy.matrix'>\n",
      "[[1 2 3]\n",
      " [4 5 6]]\n",
      "<class 'numpy.matrix'>\n"
     ]
    }
   ],
   "source": [
    "## 矩阵\n",
    "## array创建数组\n",
    "array_1=np.array([1,2,3,4])\n",
    "array_2=np.array([[1,2],[3,4]])\n",
    "print(array_1)\n",
    "print(array_2)\n",
    "print(type(array_1))\n",
    "\n",
    "array_1=np.mat(array_1) ## 将array转化为mat，才能进行线性代数运算\n",
    "print(type(array_1))\n",
    "\n",
    "## mat创建矩阵\n",
    "matrix_1=np.mat([[1,2,3],[4,5,6]]) ## 注意这里np.mat()是函数，第一层中括号表示矩阵，第二层两个中括号分别表示第一行和第二行\n",
    "print(matrix_1)\n",
    "print(type(matrix_1))\n",
    "\n",
    "# 首先，mat() 函数与array()函数生成矩阵所需的数据格式有区别:\n",
    "# mat()函数中数据可以为字符串以分号（;）分割或者为列表形式以逗号（，）分割，而array()函数中数据只能为后者形式。\n",
    "# 其次，两者的类型不同，用mat函数转换为矩阵后才能进行一些线性代数的操作。"
   ]
  },
  {
   "cell_type": "code",
   "execution_count": 18,
   "id": "bfb440ec",
   "metadata": {},
   "outputs": [
    {
     "name": "stdout",
     "output_type": "stream",
     "text": [
      "[2, 4, 6, 8]\n"
     ]
    }
   ],
   "source": [
    "## 步长\n",
    "d=list(range(1,10))\n",
    "print(d[1::2] ## 从1开始，到最后一个元素，步长为2（分别对应1：2：3 中123的位置）"
   ]
  },
  {
   "cell_type": "code",
   "execution_count": 43,
   "id": "3a340e41",
   "metadata": {},
   "outputs": [
    {
     "name": "stdout",
     "output_type": "stream",
     "text": [
      "[[0. 0. 0.]\n",
      " [0. 0. 0.]\n",
      " [0. 0. 0.]]\n",
      "[[1. 1. 1. 1.]\n",
      " [1. 1. 1. 1.]\n",
      " [1. 1. 1. 1.]\n",
      " [1. 1. 1. 1.]]\n",
      "(4, 4)\n",
      "[[0.59619083 0.12875976 0.96465794 0.14728935]\n",
      " [0.4099806  0.90869549 0.47236822 0.46170978]\n",
      " [0.32576662 0.45362597 0.47171954 0.55322035]\n",
      " [0.84906884 0.65905083 0.77631078 0.9997301 ]]\n",
      "[[1 0 0]\n",
      " [0 2 0]\n",
      " [0 0 3]]\n",
      "[[1. 0. 0. 0.]\n",
      " [0. 1. 0. 0.]\n",
      " [0. 0. 1. 0.]\n",
      " [0. 0. 0. 1.]]\n",
      "[['Hi' 'Hi' 'Hi' 'Hi']\n",
      " ['Hi' 'Hi' 'Hi' 'Hi']\n",
      " ['Hi' 'Hi' 'Hi' 'Hi']\n",
      " ['Hi' 'Hi' 'Hi' 'Hi']]\n",
      "[[0.84605885 0.31148678 0.09291992]\n",
      " [0.77150413 0.39928058 0.26445838]\n",
      " [0.48603144 0.53908063 0.29039504]]\n"
     ]
    }
   ],
   "source": [
    "## mat创建常见的矩阵\n",
    "mat_1=np.mat(np.zeros((3,3))) ## 创建3*3的0矩阵\n",
    "print(mat_1)\n",
    "\n",
    "mat_2=np.mat(np.ones((4,4))) ## np.ones(shapes),创建全为1的矩阵\n",
    "print(mat_2)\n",
    "print(np.shape(mat_2)) ## np.shape()查看矩阵的行列数\n",
    "\n",
    "mat_3=np.random.rand(4,4) ## 用np模块中的random.rand来构建一个4*4的随机矩阵，且在0-1之间\n",
    "print(mat_3)\n",
    "\n",
    "mat_4=np.mat(np.diag([1,2,3])) ## 获得一个对角线为1,2,3的对角矩阵\n",
    "print(mat_4)\n",
    "\n",
    "mat_5=np.eye(4) ## 生成一个4*4的单位矩阵\n",
    "print(mat_5)\n",
    "\n",
    "mat_6=np.full(shape=(4,4),fill_value='Hi') ## 生成一个4*4，全部元素都为Hi的矩阵\n",
    "print(mat_6)\n",
    "\n",
    "mat_7=np.random.rand(3,3) ## 随机生成一个m*n的矩阵（元素值在0-1）\n",
    "print(mat_7)"
   ]
  },
  {
   "cell_type": "code",
   "execution_count": 48,
   "id": "b678b436",
   "metadata": {},
   "outputs": [
    {
     "name": "stdout",
     "output_type": "stream",
     "text": [
      "[[ 0.27159697  0.71150019 -1.84680721]]\n",
      "<class 'numpy.ndarray'>\n"
     ]
    },
    {
     "data": {
      "image/png": "[encoded data removed]",
      "text/plain": [
       "<Figure size 640x480 with 1 Axes>"
      ]
     },
     "metadata": {},
     "output_type": "display_data"
    }
   ],
   "source": [
    "a=np.random.randn(1,3) ## 获得3个数字，服从高斯分布，均值为0，方差为1\n",
    "print(a)\n",
    "\n",
    "b= -6 + math.sqrt(10)*(np.random.randn(1,100))\n",
    "print(type(b))\n",
    "\n",
    "c= np.random.normal(0,1,10000) ## 获得10000个数字，服从高斯分布，均值为0，方差为1\n",
    "plt.hist(c)\n",
    "plt.show()"
   ]
  },
  {
   "cell_type": "code",
   "execution_count": 57,
   "id": "c36840ac",
   "metadata": {},
   "outputs": [
    {
     "name": "stdout",
     "output_type": "stream",
     "text": [
      "[[1 2]\n",
      " [3 4]\n",
      " [5 6]]\n",
      "(3, 2)\n",
      "<class 'tuple'>\n",
      "(1, 2)\n",
      "4\n",
      "4\n"
     ]
    }
   ],
   "source": [
    "## 查看矩阵\n",
    "a=np.mat([[1,2],[3,4],[5,6]])\n",
    "print(a)\n",
    "\n",
    "## np.shape()，查看矩阵行列数，返回一个元组\n",
    "print(np.shape(a))\n",
    "print(type(np.shape(a)))\n",
    "\n",
    "## 矩阵[行号，列号] \n",
    "## 注意：行号列号都是从0开始\n",
    "print(np.shape(a[1,])) ## 返回a矩阵第一行的元素个数，矩阵[行号，列号]可以直接引用\n",
    "print(a[1,1])\n",
    "\n",
    "## 向量\n",
    "b=np.array([1,2,3,4])\n",
    "print(len(b)) ## 返回向量的长度"
   ]
  },
  {
   "cell_type": "code",
   "execution_count": 63,
   "id": "ce1c9ea9",
   "metadata": {},
   "outputs": [
    {
     "name": "stdout",
     "output_type": "stream",
     "text": [
      "G:\\project\\Coursera-ML-AndrewNg-Notes\\My_MLcourse_codes\n",
      "G:\\project\\Coursera-ML-AndrewNg-Notes\\My_MLcourse_codes\n",
      "['.ipynb_checkpoints', 'Untitled.ipynb']\n"
     ]
    }
   ],
   "source": [
    "## os模块\n",
    "print(os.getcwd())  ## os.getcwd()，打印当前工作路径\n",
    "d=\"G:\\project\\Coursera-ML-AndrewNg-Notes\"\n",
    "\n",
    "os.chdir(f\"{d}\") ## 改变工作路径\n",
    "print(os.getcwd())\n",
    "\n",
    "print(os.listdir()) ## 查看当前目录下的文件和目录"
   ]
  },
  {
   "cell_type": "code",
   "execution_count": 90,
   "id": "6978bf39",
   "metadata": {},
   "outputs": [
    {
     "name": "stdout",
     "output_type": "stream",
     "text": [
      "<class 'pandas.core.frame.DataFrame'>\n",
      "(97, 2)\n"
     ]
    },
    {
     "data": {
      "text/html": [
       "<div>\n",
       "<style scoped>\n",
       "    .dataframe tbody tr th:only-of-type {\n",
       "        vertical-align: middle;\n",
       "    }\n",
       "\n",
       "    .dataframe tbody tr th {\n",
       "        vertical-align: top;\n",
       "    }\n",
       "\n",
       "    .dataframe thead th {\n",
       "        text-align: right;\n",
       "    }\n",
       "</style>\n",
       "<table border=\"1\" class=\"dataframe\">\n",
       "  <thead>\n",
       "    <tr style=\"text-align: right;\">\n",
       "      <th></th>\n",
       "      <th>0</th>\n",
       "      <th>1</th>\n",
       "    </tr>\n",
       "  </thead>\n",
       "  <tbody>\n",
       "    <tr>\n",
       "      <th>0</th>\n",
       "      <td>6.1101</td>\n",
       "      <td>17.5920</td>\n",
       "    </tr>\n",
       "    <tr>\n",
       "      <th>1</th>\n",
       "      <td>5.5277</td>\n",
       "      <td>9.1302</td>\n",
       "    </tr>\n",
       "    <tr>\n",
       "      <th>2</th>\n",
       "      <td>8.5186</td>\n",
       "      <td>13.6620</td>\n",
       "    </tr>\n",
       "    <tr>\n",
       "      <th>3</th>\n",
       "      <td>7.0032</td>\n",
       "      <td>11.8540</td>\n",
       "    </tr>\n",
       "    <tr>\n",
       "      <th>4</th>\n",
       "      <td>5.8598</td>\n",
       "      <td>6.8233</td>\n",
       "    </tr>\n",
       "  </tbody>\n",
       "</table>\n",
       "</div>"
      ],
      "text/plain": [
       "        0        1\n",
       "0  6.1101  17.5920\n",
       "1  5.5277   9.1302\n",
       "2  8.5186  13.6620\n",
       "3  7.0032  11.8540\n",
       "4  5.8598   6.8233"
      ]
     },
     "execution_count": 90,
     "metadata": {},
     "output_type": "execute_result"
    }
   ],
   "source": [
    "## 读取文件\n",
    "## filepaht_or_buffer：路径\n",
    "a=pd.read_table(filepath_or_buffer='G:\\project\\Coursera-ML-AndrewNg-Notes\\code\\ex1-linear regression\\ex1data1.txt',header=None,sep=',')\n",
    "\n",
    "print(type(a)) ## dataframe\n",
    "print(np.shape(a)) ## 也可以用来显示数据框的行列\n",
    "\n",
    "a.head()"
   ]
  },
  {
   "cell_type": "code",
   "execution_count": 76,
   "id": "127a8a76",
   "metadata": {},
   "outputs": [
    {
     "name": "stdout",
     "output_type": "stream",
     "text": [
      "NamespaceMagics\t a\t get_ipython\t getsizeof\t json\t math\t np\t os\t pd\t \n",
      "plt\t random\t var_dic_list\t \n"
     ]
    }
   ],
   "source": [
    "## 显示当前的环境变量和加载的库\n",
    "%who ## 只显示当前加载的库和变量\n",
    "%whos ## 显示当前加载的库和变量的详细信息"
   ]
  },
  {
   "cell_type": "code",
   "execution_count": 92,
   "id": "f5674ecc",
   "metadata": {},
   "outputs": [
    {
     "name": "stdout",
     "output_type": "stream",
     "text": [
      "Variable          Type                          Data/Info\n",
      "---------------------------------------------------------\n",
      "NamespaceMagics   MetaHasTraits                 <class 'IPython.core.magi<...>mespace.NamespaceMagics'>\n",
      "b                 matrix                        [[1 2]\\n [3 4]]\n",
      "get_ipython       function                      <function get_ipython at 0x000002491CE25DC0>\n",
      "getsizeof         builtin_function_or_method    <built-in function getsizeof>\n",
      "json              module                        <module 'json' from 'G:\\\\<...>\\lib\\\\json\\\\__init__.py'>\n",
      "math              module                        <module 'math' (built-in)>\n",
      "np                module                        <module 'numpy' from 'G:\\<...>ges\\\\numpy\\\\__init__.py'>\n",
      "os                module                        <module 'os' from 'G:\\\\an<...>ython_basic\\\\lib\\\\os.py'>\n",
      "pd                module                        <module 'pandas' from 'G:<...>es\\\\pandas\\\\__init__.py'>\n",
      "plt               module                        <module 'matplotlib.pyplo<...>\\\\matplotlib\\\\pyplot.py'>\n",
      "random            module                        <module 'random' from 'G:<...>n_basic\\\\lib\\\\random.py'>\n",
      "var_dic_list      function                      <function var_dic_list at 0x0000024920F32CA0>\n"
     ]
    },
    {
     "ename": "NameError",
     "evalue": "name 'a' is not defined",
     "output_type": "error",
     "traceback": [
      "\u001b[1;31m---------------------------------------------------------------------------\u001b[0m",
      "\u001b[1;31mNameError\u001b[0m                                 Traceback (most recent call last)",
      "\u001b[1;32m<ipython-input-92-0007f8f54e92>\u001b[0m in \u001b[0;36m<module>\u001b[1;34m\u001b[0m\n\u001b[0;32m      1\u001b[0m \u001b[1;31m## 删除变量\u001b[0m\u001b[1;33m\u001b[0m\u001b[1;33m\u001b[0m\u001b[1;33m\u001b[0m\u001b[0m\n\u001b[0;32m      2\u001b[0m \u001b[0mget_ipython\u001b[0m\u001b[1;33m(\u001b[0m\u001b[1;33m)\u001b[0m\u001b[1;33m.\u001b[0m\u001b[0mrun_line_magic\u001b[0m\u001b[1;33m(\u001b[0m\u001b[1;34m'whos'\u001b[0m\u001b[1;33m,\u001b[0m \u001b[1;34m''\u001b[0m\u001b[1;33m)\u001b[0m\u001b[1;33m\u001b[0m\u001b[1;33m\u001b[0m\u001b[0m\n\u001b[1;32m----> 3\u001b[1;33m \u001b[1;32mdel\u001b[0m \u001b[0ma\u001b[0m \u001b[1;31m## 删除某个环境变量\u001b[0m\u001b[1;33m\u001b[0m\u001b[1;33m\u001b[0m\u001b[0m\n\u001b[0m\u001b[0;32m      4\u001b[0m \u001b[0mget_ipython\u001b[0m\u001b[1;33m(\u001b[0m\u001b[1;33m)\u001b[0m\u001b[1;33m.\u001b[0m\u001b[0mrun_line_magic\u001b[0m\u001b[1;33m(\u001b[0m\u001b[1;34m'whos'\u001b[0m\u001b[1;33m,\u001b[0m \u001b[1;34m''\u001b[0m\u001b[1;33m)\u001b[0m\u001b[1;33m\u001b[0m\u001b[1;33m\u001b[0m\u001b[0m\n\u001b[0;32m      5\u001b[0m \u001b[1;33m\u001b[0m\u001b[0m\n",
      "\u001b[1;31mNameError\u001b[0m: name 'a' is not defined"
     ]
    }
   ],
   "source": [
    "## 删除变量\n",
    "%whos\n",
    "del a ## 删除某个环境变量\n",
    "%whos\n",
    "\n",
    "reset ## 删除所有变量（只能在console里用）"
   ]
  },
  {
   "cell_type": "code",
   "execution_count": 81,
   "id": "baf88e3f",
   "metadata": {},
   "outputs": [],
   "source": [
    "## 保存数据（路径用'/'反斜杠来分隔）\n",
    "a.to_csv(path_or_buf='G:/project/Coursera-ML-AndrewNg-Notes/code/ex1-linear regression/test.csv') ## 数据框.to_文件类型（csv,xls……）"
   ]
  },
  {
   "cell_type": "code",
   "execution_count": 103,
   "id": "baba2d8e",
   "metadata": {},
   "outputs": [
    {
     "name": "stdout",
     "output_type": "stream",
     "text": [
      "[[1 2]\n",
      " [3 4]\n",
      " [5 6]]\n",
      "[[1 2]\n",
      " [3 4]\n",
      " [5 6]]\n",
      "[[3 4]\n",
      " [5 6]]\n",
      "[[1]\n",
      " [3]\n",
      " [5]]\n",
      "[[1 2]\n",
      " [5 6]]\n"
     ]
    }
   ],
   "source": [
    "## 数据索引\n",
    "## 行操作\n",
    "a = np.mat([[1,2],[3,4],[5,6]])\n",
    "print(a)\n",
    "\n",
    "print(a[0:,:]) ## 打印整个矩阵a，要注意py里面的矩阵行和列都是从0开始\n",
    "print(a[1:,:]) ## 从第一行开始打印整个矩阵\n",
    "## 矩阵[行,列]\n",
    "\n",
    "## 列操作\n",
    "print(a[:,0]) ## 只打印矩阵第一列\n",
    "\n",
    "## 选择性操作\n",
    "print(a[[0,2],0:]) ## 打印第1，3行的所有列"
   ]
  },
  {
   "cell_type": "code",
   "execution_count": 104,
   "id": "e89af8f7",
   "metadata": {},
   "outputs": [
    {
     "name": "stdout",
     "output_type": "stream",
     "text": [
      "[[1 2]\n",
      " [3 4]\n",
      " [5 6]]\n",
      "[[ 1  2]\n",
      " [98 99]\n",
      " [ 5  6]]\n"
     ]
    }
   ],
   "source": [
    "## 索引加赋值\n",
    "print(a)\n",
    "\n",
    "a[1,:]=[98,99] ## 修改第2行的所有列的值\n",
    "print(a)"
   ]
  },
  {
   "cell_type": "code",
   "execution_count": 114,
   "id": "b29ee665",
   "metadata": {},
   "outputs": [
    {
     "name": "stdout",
     "output_type": "stream",
     "text": [
      "[[1 2]\n",
      " [3 4]\n",
      " [5 6]]\n",
      "[[11 12]\n",
      " [13 14]\n",
      " [15 16]]\n",
      "[[ 1  2]\n",
      " [ 3  4]\n",
      " [ 5  6]\n",
      " [11 12]\n",
      " [13 14]\n",
      " [15 16]]\n",
      "[[ 1  2 11 12]\n",
      " [ 3  4 13 14]\n",
      " [ 5  6 15 16]]\n",
      "[[1 2]]\n",
      "[[1 2]\n",
      " [3 4]\n",
      " [5 6]]\n"
     ]
    }
   ],
   "source": [
    "## 矩阵的分割和合并\n",
    "a=np.mat([[1,2],[3,4],[5,6]])\n",
    "b=np.mat([[11,12],[13,14],[15,16]])\n",
    "print(a)\n",
    "print(b)\n",
    "\n",
    "c=np.vstack((a,b)) ## vertical stack （垂直的）叠加，在前面的就是在上面\n",
    "d=np.hstack((a,b)) ## horizontal stack （水平的）叠加，在前面的就是在左边\n",
    "print(c)\n",
    "print(d)\n",
    "\n",
    "## 矩阵的分隔用索引就能完成\n",
    "c=a[0:1,0:] ## c为a的第1行，所有列。 note：矩阵[行号1:行号2,]，是取一个[左闭右开)的区间，即这里a的第2行（1）并不会被取，这样就很方便我们，写成a[0:np.shape(a)[0],]的方式来索引\n",
    "print(c)\n",
    "\n",
    "d=a[0:np.shape(a)[0],] ## np.shape(a)[0]就是行数，np.shape(a)[1]是列数\n",
    "print(d)"
   ]
  },
  {
   "cell_type": "code",
   "execution_count": 32,
   "id": "86b72b8d",
   "metadata": {},
   "outputs": [
    {
     "name": "stdout",
     "output_type": "stream",
     "text": [
      "[[ 5  5]\n",
      " [11 11]\n",
      " [17 17]]\n",
      "[[11 24]\n",
      " [39 56]\n",
      " [75 96]]\n",
      "[[ 6 12]\n",
      " [18 24]\n",
      " [30 36]]\n",
      "[[2 3]\n",
      " [4 5]\n",
      " [6 7]]\n",
      "[[1.         0.5       ]\n",
      " [0.33333333 0.25      ]\n",
      " [0.2        0.16666667]]\n",
      "[[ 1  4]\n",
      " [ 9 16]\n",
      " [25 36]]\n",
      "[[1.         1.41421356]\n",
      " [1.73205081 2.        ]\n",
      " [2.23606798 2.44948974]]\n",
      "[[0.         0.69314718]\n",
      " [1.09861229 1.38629436]\n",
      " [1.60943791 1.79175947]]\n",
      "[[  2.71828183   7.3890561 ]\n",
      " [ 20.08553692  54.59815003]\n",
      " [148.4131591  403.42879349]]\n",
      "[[1 2]\n",
      " [3 4]\n",
      " [5 6]]\n",
      "[[-1 -2]\n",
      " [-3 -4]\n",
      " [-5 -6]]\n",
      "[[ True  True]\n",
      " [False False]\n",
      " [False False]]\n",
      "[[-1.33333333 -0.33333333  0.66666667]\n",
      " [ 1.08333333  0.33333333 -0.41666667]]\n",
      "[[ 1.00000000e+00 -8.88178420e-16]\n",
      " [ 1.77635684e-15  1.00000000e+00]]\n",
      "[[1 3 5]\n",
      " [2 4 6]]\n",
      "(3, 2) (2, 3)\n"
     ]
    }
   ],
   "source": [
    "## 常见的矩阵运算\n",
    "a=np.mat([[1,2],[3,4],[5,6]])\n",
    "b=np.mat([[11,12],[13,14],[15,16]])\n",
    "c=np.mat([[1,1],[2,2]])\n",
    "\n",
    "## 矩阵*矩阵\n",
    "d=a*c\n",
    "print(d)\n",
    "\n",
    "## 矩阵点乘(两个同型矩阵，对应位置的元素相乘)\n",
    "d=np.multiply(a,b)\n",
    "print(d)\n",
    "\n",
    "## 矩阵*数量\n",
    "d=a*6\n",
    "print(d)\n",
    "\n",
    "## 矩阵+数量\n",
    "d=a+1 ## 把矩阵中的每一个元素都加上对应的数量\n",
    "print(d)\n",
    "\n",
    "## 其他矩阵运算(np.普通函数运算())\n",
    "d=1/a ## 对矩阵中每一个元素求倒数\n",
    "print(d)\n",
    "\n",
    "d=np.power(a,2) ## 对矩阵中每一个元素求平方\n",
    "print(d)\n",
    "\n",
    "d=np.sqrt(a)## 对矩阵中每一个元素开根\n",
    "print(d)\n",
    "\n",
    "d=np.log(a) ## 对矩阵中每一个元素求对数\n",
    "print(d)\n",
    "\n",
    "d=np.exp(a) ## 对矩阵中每一个元素以e为底求对应元素次幂\n",
    "print(d)\n",
    "\n",
    "d=np.abs(a) ## 对矩阵中每一个元素求绝对值\n",
    "print(d)\n",
    "\n",
    "d=-a ## 对矩阵中每一个元素求相反数\n",
    "print(d)\n",
    "\n",
    "d=a<3 ## 矩阵中每一个元素都和3比较，返回bool值\n",
    "print(d)\n",
    "\n",
    "## 矩阵求逆\n",
    "d=a.I\n",
    "print(d)\n",
    "print(d*a) ## a.I*a=E (A*A^(-1)=E)\n",
    "\n",
    "## 矩阵的转置\n",
    "d=a.T\n",
    "print(d)\n",
    "print(np.shape(a),np.shape(d)) ## 转置就是行列交换"
   ]
  },
  {
   "cell_type": "code",
   "execution_count": 40,
   "id": "88fd331e",
   "metadata": {},
   "outputs": [
    {
     "name": "stdout",
     "output_type": "stream",
     "text": [
      "[[1 2]\n",
      " [3 4]\n",
      " [5 6]]\n",
      "[[ 9 12]]\n",
      "[[ 3]\n",
      " [ 7]\n",
      " [11]]\n",
      "[[12]]\n",
      "[[15 48]]\n",
      "[[ 2]\n",
      " [12]\n",
      " [30]]\n",
      "[[1. 2.]\n",
      " [3. 4.]\n",
      " [5. 6.]]\n",
      "6\n",
      "1\n",
      "2\n",
      "[[5 6]]\n",
      "[[2]\n",
      " [4]\n",
      " [6]]\n"
     ]
    }
   ],
   "source": [
    "## 求矩阵行、列的和\n",
    "print(a)\n",
    "print(a.sum(axis=0)) ## axis=0，求列和\n",
    "print(a.sum(axis=1)) ## axis=1，求行和\n",
    "\n",
    "print(sum(a[0:,[1]])) ## 这里是求所有行第2列的和，并不能通过sum()+索引来完成上面.sum(axis=)的工作\n",
    "\n",
    "## 求矩阵行、列的积\n",
    "print(a.prod(axis=0)) ## axis=0，求列积\n",
    "print(a.prod(axis=1)) ## axis=1，求行积\n",
    "\n",
    "## 矩阵元素取整\n",
    "print(np.floor(a)) ## 向下取整\n",
    "print(np.ceil(a)) ## 四舍五入\n",
    "\n",
    "## 求矩阵行、列的最值\n",
    "print(a.max()) ## 求矩阵中的最大元素\n",
    "print(a.min()) ## 求矩阵中的最小元素\n",
    "\n",
    "print(a[0,:].max()) ## 求矩阵第一行的最大值，这里可以通过矩阵分割+.max()来完成\n",
    "\n",
    "## 求矩阵所有行的最值（区别于求行列最值，这里返回的是一个最值矩阵）(np.max())\n",
    "print(np.max(a,0)) ## 求列\n",
    "print(np.max(a,1)) ## 求行"
   ]
  },
  {
   "cell_type": "code",
   "execution_count": 19,
   "id": "d59178b4",
   "metadata": {},
   "outputs": [
    {
     "name": "stdout",
     "output_type": "stream",
     "text": [
      "[[2 2]]\n"
     ]
    }
   ],
   "source": [
    "## 求最值所在的行列索引\n",
    "print(np.argmax(a,axis=0)) ## 求每列最值所在的行\n",
    "print(np.argmax(a,axis=1)) ## 求每行最值所在的列\n",
    "## 这里有点混杂，总之意思就是，在numpy的函数中,axis=0都是指列，而axis=1都是指行，行号列号都是从0开始，知道这个就可以了"
   ]
  },
  {
   "cell_type": "code",
   "execution_count": 38,
   "id": "46dd704b",
   "metadata": {},
   "outputs": [
    {
     "name": "stdout",
     "output_type": "stream",
     "text": [
      "[[1 2]\n",
      " [3 4]\n",
      " [5 6]]\n",
      "[[False False]\n",
      " [False  True]\n",
      " [ True  True]]\n",
      "(array([1, 2, 2], dtype=int64), array([1, 0, 1], dtype=int64))\n"
     ]
    }
   ],
   "source": [
    "## 找符合条件的矩阵元素\n",
    "print(a)\n",
    "print(np.where(a>3,True,False)) ## 类似R的ifelse，如果满足输出第一个元素，不满足输出第二个元素\n",
    "print(np.where(a>3)) ## 输出矩阵中满足条件的元素位置，前面为行号，后面为列号"
   ]
  },
  {
   "cell_type": "code",
   "execution_count": 15,
   "id": "63be989c",
   "metadata": {},
   "outputs": [
    {
     "name": "stdout",
     "output_type": "stream",
     "text": [
      "[0.   0.01 0.02 0.03 0.04 0.05 0.06 0.07 0.08 0.09 0.1  0.11 0.12 0.13\n",
      " 0.14 0.15 0.16 0.17 0.18 0.19 0.2  0.21 0.22 0.23 0.24 0.25 0.26 0.27\n",
      " 0.28 0.29 0.3  0.31 0.32 0.33 0.34 0.35 0.36 0.37 0.38 0.39 0.4  0.41\n",
      " 0.42 0.43 0.44 0.45 0.46 0.47 0.48 0.49 0.5  0.51 0.52 0.53 0.54 0.55\n",
      " 0.56 0.57 0.58 0.59 0.6  0.61 0.62 0.63 0.64 0.65 0.66 0.67 0.68 0.69\n",
      " 0.7  0.71 0.72 0.73 0.74 0.75 0.76 0.77 0.78 0.79 0.8  0.81 0.82 0.83\n",
      " 0.84 0.85 0.86 0.87 0.88 0.89 0.9  0.91 0.92 0.93 0.94 0.95 0.96 0.97]\n"
     ]
    },
    {
     "data": {
      "image/png": "[encoded data removed]",
      "text/plain": [
       "<Figure size 640x480 with 1 Axes>"
      ]
     },
     "metadata": {},
     "output_type": "display_data"
    },
    {
     "data": {
      "text/plain": [
       "<AxesSubplot:>"
      ]
     },
     "execution_count": 15,
     "metadata": {},
     "output_type": "execute_result"
    }
   ],
   "source": [
    "## 数据绘图\n",
    "## 可以帮助启发改进机器学习模型的思路\n",
    "## python 主要还是依靠matplotlib.pyplot来完成\n",
    "t=np.arange(0,0.98,0.01)\n",
    "print(t)\n",
    "\n",
    "y1=np.sin(2*np.pi*4*t)\n",
    "plt.plot(t,y1) ## 横轴为t，纵轴为y1\n",
    "## plt.show()\n",
    "\n",
    "y2=np.cos(2*np.pi*4*t)\n",
    "\n",
    "## 这些画图的要对应到相应的plot之后\n",
    "plt.plot(t,y2) ## 横轴为t，纵轴为y2\n",
    "plt.title('title') ## 添加标题\n",
    "plt.xlabel('time') ## 添加x轴标签\n",
    "plt.ylabel('value') ## 添加y轴标签\n",
    "plt.legend([\"sin\",\"cos\"]) ## 添加图例，注意，在R中，多个变量作为 其中一个选项的输入，要写成c(vector)形式，py则要写成[list]形式\n",
    "## plt.legend(loc='lower right', fontsize=12, frameon=True, fancybox=True, framealpha=0.2, borderpad=0.3,\n",
    "##            ncol=1, markerfirst=True, markerscale=1, numpoints=1, handlelength=3.5)\n",
    "\n",
    "plt.savefig(\"test.png\") ## 保存要在plot.show()之前，因为plot.show()之后就会自动生成一个新的空白画布\n",
    "plt.show() ## 画多张图再plt.show()，就能把多张图集合在一张图上"
   ]
  },
  {
   "cell_type": "code",
   "execution_count": 18,
   "id": "ef4db99f",
   "metadata": {},
   "outputs": [
    {
     "data": {
      "image/png": "[encoded data removed]",
      "text/plain": [
       "<Figure size 640x480 with 3 Axes>"
      ]
     },
     "metadata": {},
     "output_type": "display_data"
    }
   ],
   "source": [
    "## plt.subplot()划分图像位置\n",
    "## 注意：plt.subplot(几行，几列，下面这个图片要在哪里（1左2右）)，并且要在plt.plot之前指定\n",
    "plt.subplot(2,2,1)\n",
    "plt.plot(t,y1)\n",
    "\n",
    "plt.subplot(2,2,2)\n",
    "plt.plot(t,y2)\n",
    "\n",
    "plt.subplot(2,1,2) ## 占用一整行\n",
    "plt.plot(t,y2)\n",
    "\n",
    "## plt.axis([x1,x2,y1,y2]) 指定横轴为x1-x2，纵轴为y1-y2\n",
    "plt.axis([0.5,1,-1,1]) ## 设置最靠近的一个plot的坐标刻度为x(0.5,1),y(-1,1)\n",
    "## plt\n",
    "plt.show()\n"
   ]
  },
  {
   "cell_type": "code",
   "execution_count": 35,
   "id": "fc4ecb62",
   "metadata": {},
   "outputs": [
    {
     "name": "stdout",
     "output_type": "stream",
     "text": [
      "[[0.]\n",
      " [0.]\n",
      " [0.]\n",
      " [0.]\n",
      " [0.]\n",
      " [0.]\n",
      " [0.]\n",
      " [0.]\n",
      " [0.]\n",
      " [0.]]\n",
      "[[0.]\n",
      " [1.]\n",
      " [2.]\n",
      " [3.]\n",
      " [4.]\n",
      " [5.]\n",
      " [6.]\n",
      " [7.]\n",
      " [8.]\n",
      " [9.]]\n",
      "[[ 0.]\n",
      " [ 1.]\n",
      " [ 4.]\n",
      " [ 9.]\n",
      " [16.]\n",
      " [25.]\n",
      " [ 6.]\n",
      " [ 7.]\n",
      " [ 8.]\n",
      " [ 9.]]\n",
      "[[  0.]\n",
      " [  1.]\n",
      " [  4.]\n",
      " [  9.]\n",
      " [ 16.]\n",
      " [ 25.]\n",
      " [216.]\n",
      " [  7.]\n",
      " [  8.]\n",
      " [  9.]]\n"
     ]
    }
   ],
   "source": [
    "## 控制语句\n",
    "## 循环\n",
    "v=np.zeros((10,1))\n",
    "print(v)\n",
    "\n",
    "## for\n",
    "for i in range(0,10):\n",
    "    v[i,0]=i ## 第i行第1列\n",
    "print(v)\n",
    "\n",
    "## while\n",
    "i=1 ## 注意外面要先指定好i，不然就没有了\n",
    "while(i<=5): ## 注意下标是从0开始\n",
    "    v[i,0]=pow(i,2)\n",
    "    i+=1\n",
    "print(v)\n",
    "\n",
    "## while-break\n",
    "while(True):\n",
    "    v[i,0]=pow(i,3)\n",
    "    i+=1\n",
    "    if(i>5):\n",
    "        break\n",
    "print(v)"
   ]
  },
  {
   "cell_type": "code",
   "execution_count": 37,
   "id": "c49ecbf9",
   "metadata": {},
   "outputs": [
    {
     "name": "stdout",
     "output_type": "stream",
     "text": [
      "v[1] is one\n"
     ]
    }
   ],
   "source": [
    "## 条件分支\n",
    "v[1]=1\n",
    "if(v[1]==1):\n",
    "    print(\"v[1] is one\")\n",
    "elif(v[1]==2):\n",
    "    print(\"v[1] is two\")\n",
    "else:\n",
    "    print(\"v[1] is others\")"
   ]
  },
  {
   "cell_type": "code",
   "execution_count": 39,
   "id": "670387a6",
   "metadata": {},
   "outputs": [
    {
     "ename": "SyntaxError",
     "evalue": "invalid syntax (<ipython-input-39-96b684b22da9>, line 5)",
     "output_type": "error",
     "traceback": [
      "\u001b[1;36m  File \u001b[1;32m\"<ipython-input-39-96b684b22da9>\"\u001b[1;36m, line \u001b[1;32m5\u001b[0m\n\u001b[1;33m    return y1 y2\u001b[0m\n\u001b[1;37m              ^\u001b[0m\n\u001b[1;31mSyntaxError\u001b[0m\u001b[1;31m:\u001b[0m invalid syntax\n"
     ]
    }
   ],
   "source": [
    "## 定义函数\n",
    "def squareThisNumber(x):\n",
    "    y1=pow(x,2)\n",
    "    return y1\n",
    "print(squareThisNumber(5))\n",
    "\n",
    "## 导入已经写好的一系列函数\n",
    "import filename.py ## 就可以像调库一样调用自己写的函数"
   ]
  },
  {
   "cell_type": "code",
   "execution_count": 10,
   "id": "0ec2166e",
   "metadata": {},
   "outputs": [
    {
     "name": "stdout",
     "output_type": "stream",
     "text": [
      "[[1 2]\n",
      " [1 2]\n",
      " [4 7]\n",
      " [3 6]\n",
      " [3 5]\n",
      " [6 9]\n",
      " [2 4]\n",
      " [5 7]\n",
      " [3 3]]\n",
      "[[1]\n",
      " [2]\n",
      " [3]]\n"
     ]
    },
    {
     "ename": "ValueError",
     "evalue": "operands could not be broadcast together with shapes (9,1) (3,1) ",
     "output_type": "error",
     "traceback": [
      "\u001b[1;31m---------------------------------------------------------------------------\u001b[0m",
      "\u001b[1;31mValueError\u001b[0m                                Traceback (most recent call last)",
      "\u001b[1;32m<ipython-input-10-d2a137d38c72>\u001b[0m in \u001b[0;36m<module>\u001b[1;34m\u001b[0m\n\u001b[0;32m     18\u001b[0m     \u001b[1;32mreturn\u001b[0m \u001b[0mJ_theta\u001b[0m\u001b[1;33m\u001b[0m\u001b[1;33m\u001b[0m\u001b[0m\n\u001b[0;32m     19\u001b[0m \u001b[1;33m\u001b[0m\u001b[0m\n\u001b[1;32m---> 20\u001b[1;33m \u001b[0mprint\u001b[0m\u001b[1;33m(\u001b[0m\u001b[0mcostFuntionJ\u001b[0m\u001b[1;33m(\u001b[0m\u001b[0mx\u001b[0m\u001b[1;33m,\u001b[0m\u001b[0my\u001b[0m\u001b[1;33m,\u001b[0m\u001b[0mtheta_1\u001b[0m\u001b[1;33m)\u001b[0m\u001b[1;33m)\u001b[0m\u001b[1;33m\u001b[0m\u001b[1;33m\u001b[0m\u001b[0m\n\u001b[0m\u001b[0;32m     21\u001b[0m \u001b[1;33m\u001b[0m\u001b[0m\n\u001b[0;32m     22\u001b[0m \u001b[0mtheta_2\u001b[0m\u001b[1;33m=\u001b[0m\u001b[0mnp\u001b[0m\u001b[1;33m.\u001b[0m\u001b[0mmat\u001b[0m\u001b[1;33m(\u001b[0m\u001b[1;33m[\u001b[0m\u001b[1;33m[\u001b[0m\u001b[1;36m0\u001b[0m\u001b[1;33m]\u001b[0m\u001b[1;33m,\u001b[0m\u001b[1;33m[\u001b[0m\u001b[1;36m0\u001b[0m\u001b[1;33m]\u001b[0m\u001b[1;33m]\u001b[0m\u001b[1;33m)\u001b[0m\u001b[1;33m\u001b[0m\u001b[1;33m\u001b[0m\u001b[0m\n",
      "\u001b[1;32m<ipython-input-10-d2a137d38c72>\u001b[0m in \u001b[0;36mcostFuntionJ\u001b[1;34m(x, y, theta)\u001b[0m\n\u001b[0;32m     13\u001b[0m     \u001b[0mm\u001b[0m\u001b[1;33m=\u001b[0m\u001b[0mnp\u001b[0m\u001b[1;33m.\u001b[0m\u001b[0mshape\u001b[0m\u001b[1;33m(\u001b[0m\u001b[0mx\u001b[0m\u001b[1;33m)\u001b[0m\u001b[1;33m[\u001b[0m\u001b[1;36m0\u001b[0m\u001b[1;33m]\u001b[0m \u001b[1;31m## the row number of training dataset\u001b[0m\u001b[1;33m\u001b[0m\u001b[1;33m\u001b[0m\u001b[0m\n\u001b[0;32m     14\u001b[0m     \u001b[0mpredition\u001b[0m\u001b[1;33m=\u001b[0m\u001b[0mx\u001b[0m\u001b[1;33m*\u001b[0m\u001b[0mtheta\u001b[0m\u001b[1;33m\u001b[0m\u001b[1;33m\u001b[0m\u001b[0m\n\u001b[1;32m---> 15\u001b[1;33m     \u001b[0msquarerror\u001b[0m\u001b[1;33m=\u001b[0m\u001b[0mnp\u001b[0m\u001b[1;33m.\u001b[0m\u001b[0mpower\u001b[0m\u001b[1;33m(\u001b[0m\u001b[1;33m(\u001b[0m\u001b[0mpredition\u001b[0m\u001b[1;33m-\u001b[0m\u001b[0my\u001b[0m\u001b[1;33m)\u001b[0m\u001b[1;33m,\u001b[0m\u001b[1;36m2\u001b[0m\u001b[1;33m)\u001b[0m\u001b[1;33m\u001b[0m\u001b[1;33m\u001b[0m\u001b[0m\n\u001b[0m\u001b[0;32m     16\u001b[0m \u001b[1;33m\u001b[0m\u001b[0m\n\u001b[0;32m     17\u001b[0m     \u001b[0mJ_theta\u001b[0m\u001b[1;33m=\u001b[0m\u001b[0msum\u001b[0m\u001b[1;33m(\u001b[0m\u001b[0msquarerror\u001b[0m\u001b[1;33m)\u001b[0m\u001b[1;33m/\u001b[0m\u001b[1;33m(\u001b[0m\u001b[1;36m2\u001b[0m\u001b[1;33m*\u001b[0m\u001b[0mm\u001b[0m\u001b[1;33m)\u001b[0m\u001b[1;33m\u001b[0m\u001b[1;33m\u001b[0m\u001b[0m\n",
      "\u001b[1;31mValueError\u001b[0m: operands could not be broadcast together with shapes (9,1) (3,1) "
     ]
    }
   ],
   "source": [
    "## 定义函数计算线性回归的损失函数\n",
    "x=np.mat([[1,1],[1,2],[1,3]])\n",
    "y=np.mat([[1],[2],[3]])\n",
    "\n",
    "print(x)\n",
    "print(y)\n",
    "\n",
    "theta_1=np.mat([[0],[1]])\n",
    "\n",
    "def costFuntionJ(x,y,theta):\n",
    "    ## x is the design matrix of training dataset\n",
    "    ## y is the class labels\n",
    "    m=np.shape(x)[0] ## the row number of training dataset\n",
    "    predition=x*theta\n",
    "    squarerror=np.power((predition-y),2)\n",
    "    \n",
    "    J_theta=sum(squarerror)/(2*m)\n",
    "    return J_theta\n",
    "\n",
    "print(costFuntionJ(x,y,theta_1))\n",
    "\n",
    "theta_2=np.mat([[0],[0]])\n",
    "print(costFuntionJ(x,y,theta_2))\n",
    "\n",
    "## 搞清楚数据接口，剩下写函数的时候就靠数学定义"
   ]
  },
  {
   "cell_type": "code",
   "execution_count": 27,
   "id": "15b59c31",
   "metadata": {},
   "outputs": [
    {
     "ename": "ValueError",
     "evalue": "Masked arrays must be 1-D",
     "output_type": "error",
     "traceback": [
      "\u001b[1;31m---------------------------------------------------------------------------\u001b[0m",
      "\u001b[1;31mValueError\u001b[0m                                Traceback (most recent call last)",
      "\u001b[1;32m<ipython-input-27-34122a6b59ab>\u001b[0m in \u001b[0;36m<module>\u001b[1;34m\u001b[0m\n\u001b[0;32m     11\u001b[0m \u001b[0malpha\u001b[0m\u001b[1;33m=\u001b[0m\u001b[1;36m0.05\u001b[0m\u001b[1;33m\u001b[0m\u001b[1;33m\u001b[0m\u001b[0m\n\u001b[0;32m     12\u001b[0m \u001b[1;33m\u001b[0m\u001b[0m\n\u001b[1;32m---> 13\u001b[1;33m \u001b[0mplt\u001b[0m\u001b[1;33m.\u001b[0m\u001b[0mscatter\u001b[0m\u001b[1;33m(\u001b[0m\u001b[0mx\u001b[0m\u001b[1;33m=\u001b[0m\u001b[0mx\u001b[0m\u001b[1;33m[\u001b[0m\u001b[1;33m:\u001b[0m\u001b[1;33m,\u001b[0m\u001b[1;36m1\u001b[0m\u001b[1;33m]\u001b[0m\u001b[1;33m,\u001b[0m\u001b[0my\u001b[0m\u001b[1;33m=\u001b[0m\u001b[0my\u001b[0m\u001b[1;33m[\u001b[0m\u001b[1;33m:\u001b[0m\u001b[1;33m,\u001b[0m\u001b[1;36m0\u001b[0m\u001b[1;33m:\u001b[0m\u001b[1;33m]\u001b[0m\u001b[1;33m)\u001b[0m\u001b[1;33m\u001b[0m\u001b[1;33m\u001b[0m\u001b[0m\n\u001b[0m\u001b[0;32m     14\u001b[0m \u001b[0mplt\u001b[0m\u001b[1;33m.\u001b[0m\u001b[0mshow\u001b[0m\u001b[1;33m(\u001b[0m\u001b[1;33m)\u001b[0m\u001b[1;33m\u001b[0m\u001b[1;33m\u001b[0m\u001b[0m\n",
      "\u001b[1;32mG:\\anaconda\\envs\\python_basic\\lib\\site-packages\\matplotlib\\pyplot.py\u001b[0m in \u001b[0;36mscatter\u001b[1;34m(x, y, s, c, marker, cmap, norm, vmin, vmax, alpha, linewidths, edgecolors, plotnonfinite, data, **kwargs)\u001b[0m\n\u001b[0;32m   3066\u001b[0m         \u001b[0mvmin\u001b[0m\u001b[1;33m=\u001b[0m\u001b[1;32mNone\u001b[0m\u001b[1;33m,\u001b[0m \u001b[0mvmax\u001b[0m\u001b[1;33m=\u001b[0m\u001b[1;32mNone\u001b[0m\u001b[1;33m,\u001b[0m \u001b[0malpha\u001b[0m\u001b[1;33m=\u001b[0m\u001b[1;32mNone\u001b[0m\u001b[1;33m,\u001b[0m \u001b[0mlinewidths\u001b[0m\u001b[1;33m=\u001b[0m\u001b[1;32mNone\u001b[0m\u001b[1;33m,\u001b[0m \u001b[1;33m*\u001b[0m\u001b[1;33m,\u001b[0m\u001b[1;33m\u001b[0m\u001b[1;33m\u001b[0m\u001b[0m\n\u001b[0;32m   3067\u001b[0m         edgecolors=None, plotnonfinite=False, data=None, **kwargs):\n\u001b[1;32m-> 3068\u001b[1;33m     __ret = gca().scatter(\n\u001b[0m\u001b[0;32m   3069\u001b[0m         \u001b[0mx\u001b[0m\u001b[1;33m,\u001b[0m \u001b[0my\u001b[0m\u001b[1;33m,\u001b[0m \u001b[0ms\u001b[0m\u001b[1;33m=\u001b[0m\u001b[0ms\u001b[0m\u001b[1;33m,\u001b[0m \u001b[0mc\u001b[0m\u001b[1;33m=\u001b[0m\u001b[0mc\u001b[0m\u001b[1;33m,\u001b[0m \u001b[0mmarker\u001b[0m\u001b[1;33m=\u001b[0m\u001b[0mmarker\u001b[0m\u001b[1;33m,\u001b[0m \u001b[0mcmap\u001b[0m\u001b[1;33m=\u001b[0m\u001b[0mcmap\u001b[0m\u001b[1;33m,\u001b[0m \u001b[0mnorm\u001b[0m\u001b[1;33m=\u001b[0m\u001b[0mnorm\u001b[0m\u001b[1;33m,\u001b[0m\u001b[1;33m\u001b[0m\u001b[1;33m\u001b[0m\u001b[0m\n\u001b[0;32m   3070\u001b[0m         \u001b[0mvmin\u001b[0m\u001b[1;33m=\u001b[0m\u001b[0mvmin\u001b[0m\u001b[1;33m,\u001b[0m \u001b[0mvmax\u001b[0m\u001b[1;33m=\u001b[0m\u001b[0mvmax\u001b[0m\u001b[1;33m,\u001b[0m \u001b[0malpha\u001b[0m\u001b[1;33m=\u001b[0m\u001b[0malpha\u001b[0m\u001b[1;33m,\u001b[0m \u001b[0mlinewidths\u001b[0m\u001b[1;33m=\u001b[0m\u001b[0mlinewidths\u001b[0m\u001b[1;33m,\u001b[0m\u001b[1;33m\u001b[0m\u001b[1;33m\u001b[0m\u001b[0m\n",
      "\u001b[1;32mG:\\anaconda\\envs\\python_basic\\lib\\site-packages\\matplotlib\\__init__.py\u001b[0m in \u001b[0;36minner\u001b[1;34m(ax, data, *args, **kwargs)\u001b[0m\n\u001b[0;32m   1359\u001b[0m     \u001b[1;32mdef\u001b[0m \u001b[0minner\u001b[0m\u001b[1;33m(\u001b[0m\u001b[0max\u001b[0m\u001b[1;33m,\u001b[0m \u001b[1;33m*\u001b[0m\u001b[0margs\u001b[0m\u001b[1;33m,\u001b[0m \u001b[0mdata\u001b[0m\u001b[1;33m=\u001b[0m\u001b[1;32mNone\u001b[0m\u001b[1;33m,\u001b[0m \u001b[1;33m**\u001b[0m\u001b[0mkwargs\u001b[0m\u001b[1;33m)\u001b[0m\u001b[1;33m:\u001b[0m\u001b[1;33m\u001b[0m\u001b[1;33m\u001b[0m\u001b[0m\n\u001b[0;32m   1360\u001b[0m         \u001b[1;32mif\u001b[0m \u001b[0mdata\u001b[0m \u001b[1;32mis\u001b[0m \u001b[1;32mNone\u001b[0m\u001b[1;33m:\u001b[0m\u001b[1;33m\u001b[0m\u001b[1;33m\u001b[0m\u001b[0m\n\u001b[1;32m-> 1361\u001b[1;33m             \u001b[1;32mreturn\u001b[0m \u001b[0mfunc\u001b[0m\u001b[1;33m(\u001b[0m\u001b[0max\u001b[0m\u001b[1;33m,\u001b[0m \u001b[1;33m*\u001b[0m\u001b[0mmap\u001b[0m\u001b[1;33m(\u001b[0m\u001b[0msanitize_sequence\u001b[0m\u001b[1;33m,\u001b[0m \u001b[0margs\u001b[0m\u001b[1;33m)\u001b[0m\u001b[1;33m,\u001b[0m \u001b[1;33m**\u001b[0m\u001b[0mkwargs\u001b[0m\u001b[1;33m)\u001b[0m\u001b[1;33m\u001b[0m\u001b[1;33m\u001b[0m\u001b[0m\n\u001b[0m\u001b[0;32m   1362\u001b[0m \u001b[1;33m\u001b[0m\u001b[0m\n\u001b[0;32m   1363\u001b[0m         \u001b[0mbound\u001b[0m \u001b[1;33m=\u001b[0m \u001b[0mnew_sig\u001b[0m\u001b[1;33m.\u001b[0m\u001b[0mbind\u001b[0m\u001b[1;33m(\u001b[0m\u001b[0max\u001b[0m\u001b[1;33m,\u001b[0m \u001b[1;33m*\u001b[0m\u001b[0margs\u001b[0m\u001b[1;33m,\u001b[0m \u001b[1;33m**\u001b[0m\u001b[0mkwargs\u001b[0m\u001b[1;33m)\u001b[0m\u001b[1;33m\u001b[0m\u001b[1;33m\u001b[0m\u001b[0m\n",
      "\u001b[1;32mG:\\anaconda\\envs\\python_basic\\lib\\site-packages\\matplotlib\\axes\\_axes.py\u001b[0m in \u001b[0;36mscatter\u001b[1;34m(self, x, y, s, c, marker, cmap, norm, vmin, vmax, alpha, linewidths, edgecolors, plotnonfinite, **kwargs)\u001b[0m\n\u001b[0;32m   4524\u001b[0m         \u001b[1;32melse\u001b[0m\u001b[1;33m:\u001b[0m\u001b[1;33m\u001b[0m\u001b[1;33m\u001b[0m\u001b[0m\n\u001b[0;32m   4525\u001b[0m             \u001b[0mx\u001b[0m\u001b[1;33m,\u001b[0m \u001b[0my\u001b[0m\u001b[1;33m,\u001b[0m \u001b[0ms\u001b[0m\u001b[1;33m,\u001b[0m \u001b[0mc\u001b[0m\u001b[1;33m,\u001b[0m \u001b[0mcolors\u001b[0m\u001b[1;33m,\u001b[0m \u001b[0medgecolors\u001b[0m\u001b[1;33m,\u001b[0m \u001b[0mlinewidths\u001b[0m \u001b[1;33m=\u001b[0m\u001b[0;31m \u001b[0m\u001b[0;31m\\\u001b[0m\u001b[1;33m\u001b[0m\u001b[1;33m\u001b[0m\u001b[0m\n\u001b[1;32m-> 4526\u001b[1;33m                 cbook._combine_masks(\n\u001b[0m\u001b[0;32m   4527\u001b[0m                     x, y, s, c, colors, edgecolors, linewidths)\n\u001b[0;32m   4528\u001b[0m         \u001b[1;31m# Unmask edgecolors if it was actually a single RGB or RGBA.\u001b[0m\u001b[1;33m\u001b[0m\u001b[1;33m\u001b[0m\u001b[1;33m\u001b[0m\u001b[0m\n",
      "\u001b[1;32mG:\\anaconda\\envs\\python_basic\\lib\\site-packages\\matplotlib\\cbook\\__init__.py\u001b[0m in \u001b[0;36m_combine_masks\u001b[1;34m(*args)\u001b[0m\n\u001b[0;32m   1057\u001b[0m         \u001b[1;32melse\u001b[0m\u001b[1;33m:\u001b[0m\u001b[1;33m\u001b[0m\u001b[1;33m\u001b[0m\u001b[0m\n\u001b[0;32m   1058\u001b[0m             \u001b[1;32mif\u001b[0m \u001b[0misinstance\u001b[0m\u001b[1;33m(\u001b[0m\u001b[0mx\u001b[0m\u001b[1;33m,\u001b[0m \u001b[0mnp\u001b[0m\u001b[1;33m.\u001b[0m\u001b[0mma\u001b[0m\u001b[1;33m.\u001b[0m\u001b[0mMaskedArray\u001b[0m\u001b[1;33m)\u001b[0m \u001b[1;32mand\u001b[0m \u001b[0mx\u001b[0m\u001b[1;33m.\u001b[0m\u001b[0mndim\u001b[0m \u001b[1;33m>\u001b[0m \u001b[1;36m1\u001b[0m\u001b[1;33m:\u001b[0m\u001b[1;33m\u001b[0m\u001b[1;33m\u001b[0m\u001b[0m\n\u001b[1;32m-> 1059\u001b[1;33m                 \u001b[1;32mraise\u001b[0m \u001b[0mValueError\u001b[0m\u001b[1;33m(\u001b[0m\u001b[1;34m\"Masked arrays must be 1-D\"\u001b[0m\u001b[1;33m)\u001b[0m\u001b[1;33m\u001b[0m\u001b[1;33m\u001b[0m\u001b[0m\n\u001b[0m\u001b[0;32m   1060\u001b[0m             \u001b[1;32mtry\u001b[0m\u001b[1;33m:\u001b[0m\u001b[1;33m\u001b[0m\u001b[1;33m\u001b[0m\u001b[0m\n\u001b[0;32m   1061\u001b[0m                 \u001b[0mx\u001b[0m \u001b[1;33m=\u001b[0m \u001b[0mnp\u001b[0m\u001b[1;33m.\u001b[0m\u001b[0masanyarray\u001b[0m\u001b[1;33m(\u001b[0m\u001b[0mx\u001b[0m\u001b[1;33m)\u001b[0m\u001b[1;33m\u001b[0m\u001b[1;33m\u001b[0m\u001b[0m\n",
      "\u001b[1;31mValueError\u001b[0m: Masked arrays must be 1-D"
     ]
    }
   ],
   "source": [
    "## 定义函数计算线性回归的梯度下降（假设只有两个特征，即只有θ0，θ1，θ2）\n",
    "price_file=pd.read_csv(filepath_or_buffer='G:\\project\\Coursera-ML-AndrewNg-Notes\\code\\ex1-linear regression\\ex1data1.txt')\n",
    "price_file=np.mat(price_file)\n",
    "\n",
    "## 构建x的设计矩阵\n",
    "x=np.mat(price_file[0:,0])\n",
    "x_1=np.ones(np.shape(x)[0])\n",
    "x=np.insert(x,0,values=x_1,axis=1) ## 插入，axis=1为列，0代表第一列\n",
    "\n",
    "y=np.mat(price_file[0:,1])\n",
    "alpha=0.05\n",
    "\n",
    "theta=np.mat([[1],[1]])\n",
    "\n",
    "def LinearGradientDescent(theta,alpha,x,y):\n",
    "    m=np.shape(x)[0]\n",
    "    theta=theta-alpha/m*x.T*(x*theta-y)\n",
    "    return theta\n",
    "\n",
    "print(theta)\n",
    "theta_1=LinearGradientDescent(theta,alpha,x,y)\n",
    "print(theta_1)\n"
   ]
  },
  {
   "cell_type": "code",
   "execution_count": 28,
   "id": "8bf7449a",
   "metadata": {},
   "outputs": [
    {
     "name": "stdout",
     "output_type": "stream",
     "text": [
      "[[ 1.      5.5277]\n",
      " [ 1.      8.5186]\n",
      " [ 1.      7.0032]\n",
      " [ 1.      5.8598]\n",
      " [ 1.      8.3829]\n",
      " [ 1.      7.4764]\n",
      " [ 1.      8.5781]\n",
      " [ 1.      6.4862]\n",
      " [ 1.      5.0546]\n",
      " [ 1.      5.7107]\n",
      " [ 1.     14.164 ]\n",
      " [ 1.      5.734 ]\n",
      " [ 1.      8.4084]\n",
      " [ 1.      5.6407]\n",
      " [ 1.      5.3794]\n",
      " [ 1.      6.3654]\n",
      " [ 1.      5.1301]\n",
      " [ 1.      6.4296]\n",
      " [ 1.      7.0708]\n",
      " [ 1.      6.1891]\n",
      " [ 1.     20.27  ]\n",
      " [ 1.      5.4901]\n",
      " [ 1.      6.3261]\n",
      " [ 1.      5.5649]\n",
      " [ 1.     18.945 ]\n",
      " [ 1.     12.828 ]\n",
      " [ 1.     10.957 ]\n",
      " [ 1.     13.176 ]\n",
      " [ 1.     22.203 ]\n",
      " [ 1.      5.2524]\n",
      " [ 1.      6.5894]\n",
      " [ 1.      9.2482]\n",
      " [ 1.      5.8918]\n",
      " [ 1.      8.2111]\n",
      " [ 1.      7.9334]\n",
      " [ 1.      8.0959]\n",
      " [ 1.      5.6063]\n",
      " [ 1.     12.836 ]\n",
      " [ 1.      6.3534]\n",
      " [ 1.      5.4069]\n",
      " [ 1.      6.8825]\n",
      " [ 1.     11.708 ]\n",
      " [ 1.      5.7737]\n",
      " [ 1.      7.8247]\n",
      " [ 1.      7.0931]\n",
      " [ 1.      5.0702]\n",
      " [ 1.      5.8014]\n",
      " [ 1.     11.7   ]\n",
      " [ 1.      5.5416]\n",
      " [ 1.      7.5402]\n",
      " [ 1.      5.3077]\n",
      " [ 1.      7.4239]\n",
      " [ 1.      7.6031]\n",
      " [ 1.      6.3328]\n",
      " [ 1.      6.3589]\n",
      " [ 1.      6.2742]\n",
      " [ 1.      5.6397]\n",
      " [ 1.      9.3102]\n",
      " [ 1.      9.4536]\n",
      " [ 1.      8.8254]\n",
      " [ 1.      5.1793]\n",
      " [ 1.     21.279 ]\n",
      " [ 1.     14.908 ]\n",
      " [ 1.     18.959 ]\n",
      " [ 1.      7.2182]\n",
      " [ 1.      8.2951]\n",
      " [ 1.     10.236 ]\n",
      " [ 1.      5.4994]\n",
      " [ 1.     20.341 ]\n",
      " [ 1.     10.136 ]\n",
      " [ 1.      7.3345]\n",
      " [ 1.      6.0062]\n",
      " [ 1.      7.2259]\n",
      " [ 1.      5.0269]\n",
      " [ 1.      6.5479]\n",
      " [ 1.      7.5386]\n",
      " [ 1.      5.0365]\n",
      " [ 1.     10.274 ]\n",
      " [ 1.      5.1077]\n",
      " [ 1.      5.7292]\n",
      " [ 1.      5.1884]\n",
      " [ 1.      6.3557]\n",
      " [ 1.      9.7687]\n",
      " [ 1.      6.5159]\n",
      " [ 1.      8.5172]\n",
      " [ 1.      9.1802]\n",
      " [ 1.      6.002 ]\n",
      " [ 1.      5.5204]\n",
      " [ 1.      5.0594]\n",
      " [ 1.      5.7077]\n",
      " [ 1.      7.6366]\n",
      " [ 1.      5.8707]\n",
      " [ 1.      5.3054]\n",
      " [ 1.      8.2934]\n",
      " [ 1.     13.394 ]\n",
      " [ 1.      5.4369]]\n",
      "[[ 9.1302 ]\n",
      " [13.662  ]\n",
      " [11.854  ]\n",
      " [ 6.8233 ]\n",
      " [11.886  ]\n",
      " [ 4.3483 ]\n",
      " [12.     ]\n",
      " [ 6.5987 ]\n",
      " [ 3.8166 ]\n",
      " [ 3.2522 ]\n",
      " [15.505  ]\n",
      " [ 3.1551 ]\n",
      " [ 7.2258 ]\n",
      " [ 0.71618]\n",
      " [ 3.5129 ]\n",
      " [ 5.3048 ]\n",
      " [ 0.56077]\n",
      " [ 3.6518 ]\n",
      " [ 5.3893 ]\n",
      " [ 3.1386 ]\n",
      " [21.767  ]\n",
      " [ 4.263  ]\n",
      " [ 5.1875 ]\n",
      " [ 3.0825 ]\n",
      " [22.638  ]\n",
      " [13.501  ]\n",
      " [ 7.0467 ]\n",
      " [14.692  ]\n",
      " [24.147  ]\n",
      " [-1.22   ]\n",
      " [ 5.9966 ]\n",
      " [12.134  ]\n",
      " [ 1.8495 ]\n",
      " [ 6.5426 ]\n",
      " [ 4.5623 ]\n",
      " [ 4.1164 ]\n",
      " [ 3.3928 ]\n",
      " [10.117  ]\n",
      " [ 5.4974 ]\n",
      " [ 0.55657]\n",
      " [ 3.9115 ]\n",
      " [ 5.3854 ]\n",
      " [ 2.4406 ]\n",
      " [ 6.7318 ]\n",
      " [ 1.0463 ]\n",
      " [ 5.1337 ]\n",
      " [ 1.844  ]\n",
      " [ 8.0043 ]\n",
      " [ 1.0179 ]\n",
      " [ 6.7504 ]\n",
      " [ 1.8396 ]\n",
      " [ 4.2885 ]\n",
      " [ 4.9981 ]\n",
      " [ 1.4233 ]\n",
      " [-1.4211 ]\n",
      " [ 2.4756 ]\n",
      " [ 4.6042 ]\n",
      " [ 3.9624 ]\n",
      " [ 5.4141 ]\n",
      " [ 5.1694 ]\n",
      " [-0.74279]\n",
      " [17.929  ]\n",
      " [12.054  ]\n",
      " [17.054  ]\n",
      " [ 4.8852 ]\n",
      " [ 5.7442 ]\n",
      " [ 7.7754 ]\n",
      " [ 1.0173 ]\n",
      " [20.992  ]\n",
      " [ 6.6799 ]\n",
      " [ 4.0259 ]\n",
      " [ 1.2784 ]\n",
      " [ 3.3411 ]\n",
      " [-2.6807 ]\n",
      " [ 0.29678]\n",
      " [ 3.8845 ]\n",
      " [ 5.7014 ]\n",
      " [ 6.7526 ]\n",
      " [ 2.0576 ]\n",
      " [ 0.47953]\n",
      " [ 0.20421]\n",
      " [ 0.67861]\n",
      " [ 7.5435 ]\n",
      " [ 5.3436 ]\n",
      " [ 4.2415 ]\n",
      " [ 6.7981 ]\n",
      " [ 0.92695]\n",
      " [ 0.152  ]\n",
      " [ 2.8214 ]\n",
      " [ 1.8451 ]\n",
      " [ 4.2959 ]\n",
      " [ 7.2029 ]\n",
      " [ 1.9869 ]\n",
      " [ 0.14454]\n",
      " [ 9.0551 ]\n",
      " [ 0.61705]]\n",
      "[[1]\n",
      " [1]]\n",
      "[[ 0.82677792]\n",
      " [-0.257724  ]]\n"
     ]
    }
   ],
   "source": []
  },
  {
   "cell_type": "code",
   "execution_count": null,
   "id": "8573113b",
   "metadata": {},
   "outputs": [],
   "source": []
  }
 ],
 "metadata": {
  "kernelspec": {
   "display_name": "Python 3",
   "language": "python",
   "name": "python3"
  },
  "language_info": {
   "codemirror_mode": {
    "name": "ipython",
    "version": 3
   },
   "file_extension": ".py",
   "mimetype": "text/x-python",
   "name": "python",
   "nbconvert_exporter": "python",
   "pygments_lexer": "ipython3",
   "version": "3.8.11"
  },
  "toc": {
   "base_numbering": 1,
   "nav_menu": {},
   "number_sections": true,
   "sideBar": true,
   "skip_h1_title": false,
   "title_cell": "Table of Contents",
   "title_sidebar": "Contents",
   "toc_cell": false,
   "toc_position": {},
   "toc_section_display": true,
   "toc_window_display": false
  },
  "varInspector": {
   "cols": {
    "lenName": 16,
    "lenType": 16,
    "lenVar": 40
   },
   "kernels_config": {
    "python": {
     "delete_cmd_postfix": "",
     "delete_cmd_prefix": "del ",
     "library": "var_list.py",
     "varRefreshCmd": "print(var_dic_list())"
    },
    "r": {
     "delete_cmd_postfix": ") ",
     "delete_cmd_prefix": "rm(",
     "library": "var_list.r",
     "varRefreshCmd": "cat(var_dic_list()) "
    }
   },
   "position": {
    "height": "220.4px",
    "left": "948.2px",
    "right": "20px",
    "top": "-1px",
    "width": "380px"
   },
   "types_to_exclude": [
    "module",
    "function",
    "builtin_function_or_method",
    "instance",
    "_Feature"
   ],
   "window_display": false
  }
 },
 "nbformat": 4,
 "nbformat_minor": 5
}
